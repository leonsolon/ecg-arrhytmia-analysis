{
 "cells": [
  {
   "cell_type": "markdown",
   "metadata": {},
   "source": [
    "# Análise de Arritmia em Eletrocardiograma (ECG)\n",
    "\n",
    "Essa análise tem por objetivo treinar um modelo de inteligência artificial por meio do uso da biblioteca fast.ai para classificar diversos tipos de sinais de Eletrocardiograma (ECG), auxiliando na prevenção de problemas cardíacos.\n",
    "\n",
    "A arritmia cardíaca é uma alteração nos batimentos do coração. Se ele bater muito rápido, é chamado de **taquicardia**. Caso for muito lento, o nome dado é **bradicardia**. \n",
    "\n",
    "Para esse estudo, foi utilizado o banco de ECGs do MIT-BIH (_Boston's Beth Israel Hospital_), disponível pelo PhysioBank [aqui](https://alpha.physionet.org/content/mitdb/1.0.0/). \n",
    "\n",
    "A Base de Arritmias MIT-BIH contém 48 análises de meia hora, retiradas de registros de eletrocardiogramas, obtidas de 47 pessoas, entre 1975 e 1979.\n",
    "\n",
    "Os registros foram amostrados à uma taxa de 360 amostras por segundo por canal, com resolução de 11 bits e uma amplitude de 10 mV. Dois ou mais cardiologistas anotaram manualmente cada registro para obter uma anotação de simples compreensão para cada batimento (aproximadamente 110.000).\n",
    "\n",
    "A anotação de cada batimento segue a seguinte notação:\n",
    "\n",
    "| Código | Descrição |\n",
    "|--------|-----------|\n",
    "| N      | Batimento normal |\n",
    "| L\t\t | Batimento normal do lado esquerdo | \n",
    "|R\t\t | Batimento normal do lado direito |\n",
    "|B\t\t | Batimento conjunto |\n",
    "|A\t\t | Batimento atrial prematuro |\n",
    "|a\t\t | Batimento atrial prematuro descompassado |\n",
    "|J\t\t | Batimento nodal prematuro |\n",
    "|S\t\t | Batimento Supraventricular prematuro |\n",
    "|V\t\t | Contração Ventricular prematura |\n",
    "|r\t\t | Contração 'R-on-T' Ventricular prematura |\n",
    "|F\t\t | Fusão de batimento normal e ventricular |\n",
    "|e\t\t | Batimento de Escape Atrial |\n",
    "|j\t\t | Batimento de Escape Nodal |\n",
    "|n\t\t | Batimento de Escape Supraventricular |\n",
    "|E\t\t | Batimento de Escape Ventricular |\n",
    "|/\t\t | Batimento 'ritmado' |\n",
    "|f\t\t | Fusão de batimento normal e 'ritmado' |\n",
    "|Q\t\t | Batimento não classificado |\n",
    "|?\t\t | Batimento não classificado durante aprendizagem |\n",
    "\n",
    "Formato da base MIT-BIH:\n",
    "\n",
    "- **Arquivos de sinais MIT (.dat)**: São arquivos binários contendo amostras de sinais digitais. Eles são armazenados na forma de _waveforms_, mas não podem ser lidos corretamente sem os arquivos de cabeçalho (_header_).\n",
    "- **Arquivos de Cabeçalho (.hea)**: São pequenos arquivos de texto que descrevem o conteúdo do arquivo de sinal associado.\n",
    "- **Arquivos de anotação (.atr)**: São arquivos binários contendo anotações (rótulos geralmente associados à amostras no arquivo de sinais)."
   ]
  },
  {
   "cell_type": "markdown",
   "metadata": {},
   "source": [
    "### Imports iniciais"
   ]
  },
  {
   "cell_type": "code",
   "execution_count": 1,
   "metadata": {},
   "outputs": [],
   "source": [
    "# Descomente esta célula caso necessário instalar as dependências do projeto\n",
    "# !pip install wfdb\n",
    "# !pip install numpy\n",
    "# !pip install matplotlib\n",
    "# !pip install opencv-python\n",
    "# !pip install fastai"
   ]
  },
  {
   "cell_type": "code",
   "execution_count": 2,
   "metadata": {},
   "outputs": [],
   "source": [
    "import wfdb\n",
    "import numpy as np\n",
    "import matplotlib.pyplot as plt\n",
    "import cv2\n",
    "import os"
   ]
  },
  {
   "cell_type": "markdown",
   "metadata": {},
   "source": [
    "### Mapeamento dos tipos de batimento\n",
    "\n",
    "`BEAT_ANNOTATIONS` e `BEAT_TYPES` fazem o mapeamento das possíveis classes de um batimento"
   ]
  },
  {
   "cell_type": "code",
   "execution_count": 3,
   "metadata": {},
   "outputs": [],
   "source": [
    "BEAT_ANNOTATIONS = ['N', 'L', 'R', 'B', 'A', 'a', 'J', 'S', 'V', 'r', 'F', 'e', 'j', 'n', 'E', '/', 'f', 'Q', '?']"
   ]
  },
  {
   "cell_type": "code",
   "execution_count": 4,
   "metadata": {},
   "outputs": [],
   "source": [
    "BEAT_TYPES = {\n",
    "    'N': 'normal',\n",
    "    'L': 'left-bundle-branch-block-beat',\n",
    "    'R': 'right-bundle-branch-block-beat',\n",
    "    'B': 'bundle-branch-block-beat',\n",
    "    'A': 'atrial-premature-beat',\n",
    "    'a': 'aberrated-atrial-premature-beat',\n",
    "    'J': 'nodal-premature-beat',\n",
    "    'S': 'supraventricular-premature-or-ectopic-beat',\n",
    "    'V': 'premature-ventricular-contraction',\n",
    "    'r': 'r-on-t-premature-ventricular-contraction',\n",
    "    'F': 'fusion-of-ventricular-and-normal-beat',\n",
    "    'e': 'atrial-escape-beat',\n",
    "    'j': 'nodal-escape-beat',\n",
    "    'n': 'supraventricular-escape-beat',\n",
    "    'E': 'ventricular-escape-beat',\n",
    "    '/': 'paced-beat',\n",
    "    'f': 'fusion-of-paced-and-normal-beat',\n",
    "    'Q': 'unclassifiable-beat',\n",
    "    '?': 'beat-not-classified-during-learning'\n",
    "}"
   ]
  },
  {
   "cell_type": "code",
   "execution_count": 5,
   "metadata": {},
   "outputs": [],
   "source": [
    "classes = [BEAT_TYPES[beat_type] for beat_type in BEAT_TYPES]"
   ]
  },
  {
   "cell_type": "code",
   "execution_count": 6,
   "metadata": {},
   "outputs": [
    {
     "data": {
      "text/plain": [
       "['normal',\n",
       " 'left-bundle-branch-block-beat',\n",
       " 'right-bundle-branch-block-beat',\n",
       " 'bundle-branch-block-beat',\n",
       " 'atrial-premature-beat',\n",
       " 'aberrated-atrial-premature-beat',\n",
       " 'nodal-premature-beat',\n",
       " 'supraventricular-premature-or-ectopic-beat',\n",
       " 'premature-ventricular-contraction',\n",
       " 'r-on-t-premature-ventricular-contraction',\n",
       " 'fusion-of-ventricular-and-normal-beat',\n",
       " 'atrial-escape-beat',\n",
       " 'nodal-escape-beat',\n",
       " 'supraventricular-escape-beat',\n",
       " 'ventricular-escape-beat',\n",
       " 'paced-beat',\n",
       " 'fusion-of-paced-and-normal-beat',\n",
       " 'unclassifiable-beat',\n",
       " 'beat-not-classified-during-learning']"
      ]
     },
     "execution_count": 6,
     "metadata": {},
     "output_type": "execute_result"
    }
   ],
   "source": [
    "classes"
   ]
  },
  {
   "cell_type": "markdown",
   "metadata": {},
   "source": [
    "### Passos iniciais\n",
    "\n",
    "Primeiramente, vamos: \n",
    "- Criar a pasta `data` para os sinais de entrada\n",
    "- Criar a pasta `output` para os dados de saída \n",
    "- Fazer o download da base do MIT-BIH para a pasta `data`\n",
    "- Descompactar o arquivo baixado e reorganizar as pastas"
   ]
  },
  {
   "cell_type": "code",
   "execution_count": 6,
   "metadata": {},
   "outputs": [
    {
     "name": "stdout",
     "output_type": "stream",
     "text": [
      "--2019-06-07 22:05:01--  https://alpha.physionet.org/static/published-projects/mitdb/mit-bih-arrhythmia-database-1.0.0.zip\n",
      "Resolving alpha.physionet.org (alpha.physionet.org)... 18.13.52.205\n",
      "Connecting to alpha.physionet.org (alpha.physionet.org)|18.13.52.205|:443... connected.\n",
      "HTTP request sent, awaiting response... 200 OK\n",
      "Length: 108937987 (104M) [application/zip]\n",
      "Saving to: ‘data/mit-bih-arrhythmia-database-1.0.0.zip’\n",
      "\n",
      "mit-bih-arrhythmia- 100%[===================>] 103,89M  18,9MB/s    in 6,1s    \n",
      "\n",
      "2019-06-07 22:05:10 (16,9 MB/s) - ‘data/mit-bih-arrhythmia-database-1.0.0.zip’ saved [108937987/108937987]\n",
      "\n",
      "Archive:  data/mit-bih-arrhythmia-database-1.0.0.zip\n",
      " extracting: data/mit-bih-arrhythmia-database-1.0.0/231.atr  \n",
      " extracting: data/mit-bih-arrhythmia-database-1.0.0/214.atr  \n",
      " extracting: data/mit-bih-arrhythmia-database-1.0.0/203.hea  \n",
      " extracting: data/mit-bih-arrhythmia-database-1.0.0/202.xws  \n",
      " extracting: data/mit-bih-arrhythmia-database-1.0.0/234.xws  \n",
      " extracting: data/mit-bih-arrhythmia-database-1.0.0/205.xws  \n",
      " extracting: data/mit-bih-arrhythmia-database-1.0.0/228.dat  \n",
      " extracting: data/mit-bih-arrhythmia-database-1.0.0/index.shtml.shtml  \n",
      " extracting: data/mit-bih-arrhythmia-database-1.0.0/220.xws  \n",
      " extracting: data/mit-bih-arrhythmia-database-1.0.0/117.atr  \n",
      " extracting: data/mit-bih-arrhythmia-database-1.0.0/233.xws  \n",
      " extracting: data/mit-bih-arrhythmia-database-1.0.0/234.hea  \n",
      " extracting: data/mit-bih-arrhythmia-database-1.0.0/108.hea  \n",
      " extracting: data/mit-bih-arrhythmia-database-1.0.0/205.hea  \n",
      " extracting: data/mit-bih-arrhythmia-database-1.0.0/231.dat  \n",
      " extracting: data/mit-bih-arrhythmia-database-1.0.0/220.dat  \n",
      " extracting: data/mit-bih-arrhythmia-database-1.0.0/203.at-  \n",
      " extracting: data/mit-bih-arrhythmia-database-1.0.0/124.dat  \n",
      " extracting: data/mit-bih-arrhythmia-database-1.0.0/221.hea  \n",
      " extracting: data/mit-bih-arrhythmia-database-1.0.0/102.atr  \n",
      " extracting: data/mit-bih-arrhythmia-database-1.0.0/SHA256SUMS.txt  \n",
      " extracting: data/mit-bih-arrhythmia-database-1.0.0/201.atr  \n",
      " extracting: data/mit-bih-arrhythmia-database-1.0.0/222.xws  \n",
      " extracting: data/mit-bih-arrhythmia-database-1.0.0/222.at_  \n",
      " extracting: data/mit-bih-arrhythmia-database-1.0.0/207.hea  \n",
      " extracting: data/mit-bih-arrhythmia-database-1.0.0/123.hea  \n",
      " extracting: data/mit-bih-arrhythmia-database-1.0.0/109.xws  \n",
      " extracting: data/mit-bih-arrhythmia-database-1.0.0/114.dat  \n",
      " extracting: data/mit-bih-arrhythmia-database-1.0.0/222.dat  \n",
      " extracting: data/mit-bih-arrhythmia-database-1.0.0/208.atr  \n",
      " extracting: data/mit-bih-arrhythmia-database-1.0.0/115.xws  \n",
      " extracting: data/mit-bih-arrhythmia-database-1.0.0/219.atr  \n",
      " extracting: data/mit-bih-arrhythmia-database-1.0.0/210.dat  \n",
      " extracting: data/mit-bih-arrhythmia-database-1.0.0/116.dat  \n",
      " extracting: data/mit-bih-arrhythmia-database-1.0.0/213.hea  \n",
      " extracting: data/mit-bih-arrhythmia-database-1.0.0/220.hea  \n",
      " extracting: data/mit-bih-arrhythmia-database-1.0.0/118.atr  \n",
      " extracting: data/mit-bih-arrhythmia-database-1.0.0/114.hea  \n",
      " extracting: data/mit-bih-arrhythmia-database-1.0.0/116.hea  \n",
      " extracting: data/mit-bih-arrhythmia-database-1.0.0/213.xws  \n",
      " extracting: data/mit-bih-arrhythmia-database-1.0.0/111.xws  \n",
      " extracting: data/mit-bih-arrhythmia-database-1.0.0/114.xws  \n",
      " extracting: data/mit-bih-arrhythmia-database-1.0.0/212.atr  \n",
      " extracting: data/mit-bih-arrhythmia-database-1.0.0/101.atr  \n",
      " extracting: data/mit-bih-arrhythmia-database-1.0.0/RECORDS  \n",
      " extracting: data/mit-bih-arrhythmia-database-1.0.0/107.xws  \n",
      " extracting: data/mit-bih-arrhythmia-database-1.0.0/233.atr  \n",
      " extracting: data/mit-bih-arrhythmia-database-1.0.0/215.xws  \n",
      " extracting: data/mit-bih-arrhythmia-database-1.0.0/100.dat  \n",
      " extracting: data/mit-bih-arrhythmia-database-1.0.0/113.atr  \n",
      " extracting: data/mit-bih-arrhythmia-database-1.0.0/112.xws  \n",
      " extracting: data/mit-bih-arrhythmia-database-1.0.0/223.xws  \n",
      " extracting: data/mit-bih-arrhythmia-database-1.0.0/103.hea  \n",
      " extracting: data/mit-bih-arrhythmia-database-1.0.0/104.xws  \n",
      " extracting: data/mit-bih-arrhythmia-database-1.0.0/228.hea  \n",
      " extracting: data/mit-bih-arrhythmia-database-1.0.0/117.xws  \n",
      " extracting: data/mit-bih-arrhythmia-database-1.0.0/116.atr  \n",
      " extracting: data/mit-bih-arrhythmia-database-1.0.0/122.xws  \n",
      " extracting: data/mit-bih-arrhythmia-database-1.0.0/231.hea  \n",
      " extracting: data/mit-bih-arrhythmia-database-1.0.0/203.atr  \n",
      " extracting: data/mit-bih-arrhythmia-database-1.0.0/109.atr  \n",
      " extracting: data/mit-bih-arrhythmia-database-1.0.0/100.xws  \n",
      " extracting: data/mit-bih-arrhythmia-database-1.0.0/102.dat  \n",
      " extracting: data/mit-bih-arrhythmia-database-1.0.0/103.xws  \n",
      " extracting: data/mit-bih-arrhythmia-database-1.0.0/219.hea  \n",
      " extracting: data/mit-bih-arrhythmia-database-1.0.0/121.atr  \n",
      " extracting: data/mit-bih-arrhythmia-database-1.0.0/101.dat  \n",
      " extracting: data/mit-bih-arrhythmia-database-1.0.0/107.hea  \n",
      " extracting: data/mit-bih-arrhythmia-database-1.0.0/233.dat  \n",
      " extracting: data/mit-bih-arrhythmia-database-1.0.0/208.xws  \n",
      " extracting: data/mit-bih-arrhythmia-database-1.0.0/201.hea  \n",
      " extracting: data/mit-bih-arrhythmia-database-1.0.0/123.dat  \n",
      " extracting: data/mit-bih-arrhythmia-database-1.0.0/102.xws  \n",
      " extracting: data/mit-bih-arrhythmia-database-1.0.0/107.dat  \n",
      " extracting: data/mit-bih-arrhythmia-database-1.0.0/231.xws  \n",
      " extracting: data/mit-bih-arrhythmia-database-1.0.0/102.hea  \n",
      " extracting: data/mit-bih-arrhythmia-database-1.0.0/118.hea  \n",
      " extracting: data/mit-bih-arrhythmia-database-1.0.0/101.hea  \n",
      " extracting: data/mit-bih-arrhythmia-database-1.0.0/106.xws  \n",
      " extracting: data/mit-bih-arrhythmia-database-1.0.0/108.xws  \n",
      " extracting: data/mit-bih-arrhythmia-database-1.0.0/121.hea  \n",
      " extracting: data/mit-bih-arrhythmia-database-1.0.0/215.atr  \n",
      " extracting: data/mit-bih-arrhythmia-database-1.0.0/119.dat  \n",
      " extracting: data/mit-bih-arrhythmia-database-1.0.0/220.atr  \n",
      " extracting: data/mit-bih-arrhythmia-database-1.0.0/121.dat  \n",
      " extracting: data/mit-bih-arrhythmia-database-1.0.0/219.dat  \n",
      " extracting: data/mit-bih-arrhythmia-database-1.0.0/108.atr  \n",
      " extracting: data/mit-bih-arrhythmia-database-1.0.0/119.at_  \n",
      " extracting: data/mit-bih-arrhythmia-database-1.0.0/213.atr  \n",
      " extracting: data/mit-bih-arrhythmia-database-1.0.0/221.dat  \n",
      " extracting: data/mit-bih-arrhythmia-database-1.0.0/118.dat  \n",
      " extracting: data/mit-bih-arrhythmia-database-1.0.0/230.atr  \n",
      " extracting: data/mit-bih-arrhythmia-database-1.0.0/221.atr  \n",
      " extracting: data/mit-bih-arrhythmia-database-1.0.0/117.hea  \n",
      " extracting: data/mit-bih-arrhythmia-database-1.0.0/214.xws  \n",
      " extracting: data/mit-bih-arrhythmia-database-1.0.0/219.xws  \n",
      " extracting: data/mit-bih-arrhythmia-database-1.0.0/104.dat  \n",
      " extracting: data/mit-bih-arrhythmia-database-1.0.0/102-0.atr  \n",
      " extracting: data/mit-bih-arrhythmia-database-1.0.0/201.dat  \n",
      " extracting: data/mit-bih-arrhythmia-database-1.0.0/117.dat  \n",
      " extracting: data/mit-bih-arrhythmia-database-1.0.0/200.atr  \n",
      " extracting: data/mit-bih-arrhythmia-database-1.0.0/234.atr  \n",
      " extracting: data/mit-bih-arrhythmia-database-1.0.0/207.atr  \n",
      " extracting: data/mit-bih-arrhythmia-database-1.0.0/113.xws  \n",
      " extracting: data/mit-bih-arrhythmia-database-1.0.0/105.atr  \n",
      " extracting: data/mit-bih-arrhythmia-database-1.0.0/233.hea  \n",
      " extracting: data/mit-bih-arrhythmia-database-1.0.0/201.xws  \n",
      " extracting: data/mit-bih-arrhythmia-database-1.0.0/118.xws  \n",
      " extracting: data/mit-bih-arrhythmia-database-1.0.0/214.at_  \n",
      " extracting: data/mit-bih-arrhythmia-database-1.0.0/103.atr  \n",
      " extracting: data/mit-bih-arrhythmia-database-1.0.0/209.hea  \n",
      " extracting: data/mit-bih-arrhythmia-database-1.0.0/111.atr  \n",
      " extracting: data/mit-bih-arrhythmia-database-1.0.0/217.hea  \n",
      " extracting: data/mit-bih-arrhythmia-database-1.0.0/203.dat  \n",
      " extracting: data/mit-bih-arrhythmia-database-1.0.0/207.dat  \n",
      " extracting: data/mit-bih-arrhythmia-database-1.0.0/222.hea  \n",
      " extracting: data/mit-bih-arrhythmia-database-1.0.0/215.at_  \n",
      " extracting: data/mit-bih-arrhythmia-database-1.0.0/234.dat  \n",
      " extracting: data/mit-bih-arrhythmia-database-1.0.0/117.at_  \n",
      " extracting: data/mit-bih-arrhythmia-database-1.0.0/ANNOTATORS  \n",
      " extracting: data/mit-bih-arrhythmia-database-1.0.0/121.xws  \n",
      " extracting: data/mit-bih-arrhythmia-database-1.0.0/119.atr  \n",
      " extracting: data/mit-bih-arrhythmia-database-1.0.0/123.atr  \n",
      " extracting: data/mit-bih-arrhythmia-database-1.0.0/109.dat  \n",
      " extracting: data/mit-bih-arrhythmia-database-1.0.0/122.hea  \n",
      " extracting: data/mit-bih-arrhythmia-database-1.0.0/223.dat  \n",
      " extracting: data/mit-bih-arrhythmia-database-1.0.0/112.dat  \n",
      " extracting: data/mit-bih-arrhythmia-database-1.0.0/103.dat  \n",
      " extracting: data/mit-bih-arrhythmia-database-1.0.0/100.hea  \n",
      " extracting: data/mit-bih-arrhythmia-database-1.0.0/115.hea  \n",
      " extracting: data/mit-bih-arrhythmia-database-1.0.0/122.dat  \n",
      " extracting: data/mit-bih-arrhythmia-database-1.0.0/119.xws  \n",
      " extracting: data/mit-bih-arrhythmia-database-1.0.0/109.hea  \n",
      " extracting: data/mit-bih-arrhythmia-database-1.0.0/232.atr  \n",
      " extracting: data/mit-bih-arrhythmia-database-1.0.0/112.hea  \n",
      " extracting: data/mit-bih-arrhythmia-database-1.0.0/217.dat  \n",
      " extracting: data/mit-bih-arrhythmia-database-1.0.0/113.dat  \n",
      " extracting: data/mit-bih-arrhythmia-database-1.0.0/104.hea  \n",
      " extracting: data/mit-bih-arrhythmia-database-1.0.0/202.dat  \n",
      " extracting: data/mit-bih-arrhythmia-database-1.0.0/124.atr  \n",
      " extracting: data/mit-bih-arrhythmia-database-1.0.0/221.xws  \n",
      " extracting: data/mit-bih-arrhythmia-database-1.0.0/230.hea  \n",
      " extracting: data/mit-bih-arrhythmia-database-1.0.0/112.atr  \n",
      " extracting: data/mit-bih-arrhythmia-database-1.0.0/212.hea  \n",
      " extracting: data/mit-bih-arrhythmia-database-1.0.0/124.hea  \n",
      " extracting: data/mit-bih-arrhythmia-database-1.0.0/212.dat  \n",
      " extracting: data/mit-bih-arrhythmia-database-1.0.0/106.dat  \n",
      " extracting: data/mit-bih-arrhythmia-database-1.0.0/223.atr  \n",
      " extracting: data/mit-bih-arrhythmia-database-1.0.0/202.atr  \n",
      " extracting: data/mit-bih-arrhythmia-database-1.0.0/106.atr  \n",
      " extracting: data/mit-bih-arrhythmia-database-1.0.0/104.atr  \n",
      " extracting: data/mit-bih-arrhythmia-database-1.0.0/116.xws  \n",
      " extracting: data/mit-bih-arrhythmia-database-1.0.0/105.dat  \n",
      " extracting: data/mit-bih-arrhythmia-database-1.0.0/106.hea  \n",
      " extracting: data/mit-bih-arrhythmia-database-1.0.0/230.xws  \n",
      " extracting: data/mit-bih-arrhythmia-database-1.0.0/202.hea  \n",
      " extracting: data/mit-bih-arrhythmia-database-1.0.0/111.dat  \n",
      " extracting: data/mit-bih-arrhythmia-database-1.0.0/119.hea  \n",
      " extracting: data/mit-bih-arrhythmia-database-1.0.0/209.at_  \n",
      " extracting: data/mit-bih-arrhythmia-database-1.0.0/228.xws  \n",
      " extracting: data/mit-bih-arrhythmia-database-1.0.0/222.atr  \n",
      " extracting: data/mit-bih-arrhythmia-database-1.0.0/207.xws  \n",
      " extracting: data/mit-bih-arrhythmia-database-1.0.0/210.hea  \n",
      " extracting: data/mit-bih-arrhythmia-database-1.0.0/203.xws  \n",
      " extracting: data/mit-bih-arrhythmia-database-1.0.0/200.dat  \n",
      " extracting: data/mit-bih-arrhythmia-database-1.0.0/215.dat  \n",
      " extracting: data/mit-bih-arrhythmia-database-1.0.0/217.atr  \n",
      " extracting: data/mit-bih-arrhythmia-database-1.0.0/200.xws  \n",
      " extracting: data/mit-bih-arrhythmia-database-1.0.0/115.atr  \n",
      " extracting: data/mit-bih-arrhythmia-database-1.0.0/205.atr  \n",
      " extracting: data/mit-bih-arrhythmia-database-1.0.0/205.dat  \n",
      " extracting: data/mit-bih-arrhythmia-database-1.0.0/123.xws  \n",
      " extracting: data/mit-bih-arrhythmia-database-1.0.0/208.dat  \n",
      " extracting: data/mit-bih-arrhythmia-database-1.0.0/230.dat  \n",
      " extracting: data/mit-bih-arrhythmia-database-1.0.0/101.xws  \n",
      " extracting: data/mit-bih-arrhythmia-database-1.0.0/100.atr  \n",
      " extracting: data/mit-bih-arrhythmia-database-1.0.0/108.at_  \n",
      " extracting: data/mit-bih-arrhythmia-database-1.0.0/105.hea  \n",
      " extracting: data/mit-bih-arrhythmia-database-1.0.0/105.xws  \n",
      " extracting: data/mit-bih-arrhythmia-database-1.0.0/203.at_  \n",
      " extracting: data/mit-bih-arrhythmia-database-1.0.0/212.xws  \n",
      " extracting: data/mit-bih-arrhythmia-database-1.0.0/209.dat  \n",
      " extracting: data/mit-bih-arrhythmia-database-1.0.0/232.xws  \n",
      " extracting: data/mit-bih-arrhythmia-database-1.0.0/215.hea  \n",
      " extracting: data/mit-bih-arrhythmia-database-1.0.0/108.dat  \n",
      " extracting: data/mit-bih-arrhythmia-database-1.0.0/115.dat  \n",
      " extracting: data/mit-bih-arrhythmia-database-1.0.0/107.atr  \n",
      " extracting: data/mit-bih-arrhythmia-database-1.0.0/200.hea  \n",
      " extracting: data/mit-bih-arrhythmia-database-1.0.0/232.hea  \n",
      " extracting: data/mit-bih-arrhythmia-database-1.0.0/217.xws  \n",
      " extracting: data/mit-bih-arrhythmia-database-1.0.0/209.atr  \n",
      " extracting: data/mit-bih-arrhythmia-database-1.0.0/113.hea  \n",
      " extracting: data/mit-bih-arrhythmia-database-1.0.0/114.atr  \n",
      " extracting: data/mit-bih-arrhythmia-database-1.0.0/210.xws  \n",
      " extracting: data/mit-bih-arrhythmia-database-1.0.0/213.dat  \n",
      " extracting: data/mit-bih-arrhythmia-database-1.0.0/208.hea  \n",
      " extracting: data/mit-bih-arrhythmia-database-1.0.0/228.atr  \n",
      " extracting: data/mit-bih-arrhythmia-database-1.0.0/122.atr  \n",
      " extracting: data/mit-bih-arrhythmia-database-1.0.0/232.dat  \n",
      " extracting: data/mit-bih-arrhythmia-database-1.0.0/223.hea  \n",
      " extracting: data/mit-bih-arrhythmia-database-1.0.0/210.atr  \n",
      " extracting: data/mit-bih-arrhythmia-database-1.0.0/214.hea  \n",
      " extracting: data/mit-bih-arrhythmia-database-1.0.0/124.xws  \n",
      " extracting: data/mit-bih-arrhythmia-database-1.0.0/214.dat  \n",
      " extracting: data/mit-bih-arrhythmia-database-1.0.0/209.xws  \n",
      " extracting: data/mit-bih-arrhythmia-database-1.0.0/111.hea  \n",
      " extracting: data/mit-bih-arrhythmia-database-1.0.0/x_mitdb/x_124.dat  \n",
      " extracting: data/mit-bih-arrhythmia-database-1.0.0/x_mitdb/x_222.atr  \n",
      " extracting: data/mit-bih-arrhythmia-database-1.0.0/x_mitdb/x_123.dat  \n",
      " extracting: data/mit-bih-arrhythmia-database-1.0.0/x_mitdb/x_112.atr  \n",
      " extracting: data/mit-bih-arrhythmia-database-1.0.0/x_mitdb/x_231.hea  \n",
      " extracting: data/mit-bih-arrhythmia-database-1.0.0/x_mitdb/x_230.dat  \n",
      " extracting: data/mit-bih-arrhythmia-database-1.0.0/x_mitdb/x_222.hea  \n",
      " extracting: data/mit-bih-arrhythmia-database-1.0.0/x_mitdb/x_115.atr  \n",
      " extracting: data/mit-bih-arrhythmia-database-1.0.0/x_mitdb/RECORDS  \n",
      " extracting: data/mit-bih-arrhythmia-database-1.0.0/x_mitdb/x_221.hea  \n",
      " extracting: data/mit-bih-arrhythmia-database-1.0.0/x_mitdb/x_109.atr  \n",
      " extracting: data/mit-bih-arrhythmia-database-1.0.0/x_mitdb/x_122.atr  \n",
      " extracting: data/mit-bih-arrhythmia-database-1.0.0/x_mitdb/x_112.hea  \n",
      " extracting: data/mit-bih-arrhythmia-database-1.0.0/x_mitdb/x_233.atr  \n",
      " extracting: data/mit-bih-arrhythmia-database-1.0.0/x_mitdb/x_117.atr  \n",
      " extracting: data/mit-bih-arrhythmia-database-1.0.0/x_mitdb/x_221.dat  \n",
      " extracting: data/mit-bih-arrhythmia-database-1.0.0/x_mitdb/x_228.atr  \n",
      " extracting: data/mit-bih-arrhythmia-database-1.0.0/x_mitdb/x_121.hea  \n",
      " extracting: data/mit-bih-arrhythmia-database-1.0.0/x_mitdb/x_223.atr  \n",
      " extracting: data/mit-bih-arrhythmia-database-1.0.0/x_mitdb/x_221.atr  \n",
      " extracting: data/mit-bih-arrhythmia-database-1.0.0/x_mitdb/x_117.dat  \n",
      " extracting: data/mit-bih-arrhythmia-database-1.0.0/x_mitdb/x_232.atr  \n",
      " extracting: data/mit-bih-arrhythmia-database-1.0.0/x_mitdb/x_111.hea  \n",
      " extracting: data/mit-bih-arrhythmia-database-1.0.0/x_mitdb/x_116.hea  \n",
      " extracting: data/mit-bih-arrhythmia-database-1.0.0/x_mitdb/x_220.dat  \n",
      " extracting: data/mit-bih-arrhythmia-database-1.0.0/x_mitdb/x_108.hea  \n",
      " extracting: data/mit-bih-arrhythmia-database-1.0.0/x_mitdb/x_234.hea  \n",
      " extracting: data/mit-bih-arrhythmia-database-1.0.0/x_mitdb/x_114.atr  \n",
      " extracting: data/mit-bih-arrhythmia-database-1.0.0/x_mitdb/x_115.hea  \n",
      " extracting: data/mit-bih-arrhythmia-database-1.0.0/x_mitdb/ANNOTATORS  \n",
      " extracting: data/mit-bih-arrhythmia-database-1.0.0/x_mitdb/x_233.hea  \n",
      " extracting: data/mit-bih-arrhythmia-database-1.0.0/x_mitdb/x_116.dat  \n",
      " extracting: data/mit-bih-arrhythmia-database-1.0.0/x_mitdb/x_114.dat  \n",
      " extracting: data/mit-bih-arrhythmia-database-1.0.0/x_mitdb/x_234.dat  \n",
      " extracting: data/mit-bih-arrhythmia-database-1.0.0/x_mitdb/x_228.dat  \n",
      " extracting: data/mit-bih-arrhythmia-database-1.0.0/x_mitdb/x_111.dat  \n",
      " extracting: data/mit-bih-arrhythmia-database-1.0.0/x_mitdb/x_109.hea  \n",
      " extracting: data/mit-bih-arrhythmia-database-1.0.0/x_mitdb/x_230.hea  \n",
      " extracting: data/mit-bih-arrhythmia-database-1.0.0/x_mitdb/x_220.hea  \n",
      " extracting: data/mit-bih-arrhythmia-database-1.0.0/x_mitdb/x_232.dat  \n",
      " extracting: data/mit-bih-arrhythmia-database-1.0.0/x_mitdb/x_122.dat  \n",
      " extracting: data/mit-bih-arrhythmia-database-1.0.0/x_mitdb/x_231.dat  \n",
      " extracting: data/mit-bih-arrhythmia-database-1.0.0/x_mitdb/x_123.hea  \n",
      " extracting: data/mit-bih-arrhythmia-database-1.0.0/x_mitdb/x_123.atr  \n",
      " extracting: data/mit-bih-arrhythmia-database-1.0.0/x_mitdb/x_233.dat  \n",
      " extracting: data/mit-bih-arrhythmia-database-1.0.0/x_mitdb/x_230.atr  \n",
      " extracting: data/mit-bih-arrhythmia-database-1.0.0/x_mitdb/x_228.hea  \n",
      " extracting: data/mit-bih-arrhythmia-database-1.0.0/x_mitdb/x_108.atr  \n",
      " extracting: data/mit-bih-arrhythmia-database-1.0.0/x_mitdb/x_114.hea  \n",
      " extracting: data/mit-bih-arrhythmia-database-1.0.0/x_mitdb/x_124.atr  \n",
      " extracting: data/mit-bih-arrhythmia-database-1.0.0/x_mitdb/x_113.atr  \n",
      " extracting: data/mit-bih-arrhythmia-database-1.0.0/x_mitdb/x_116.atr  \n",
      " extracting: data/mit-bih-arrhythmia-database-1.0.0/x_mitdb/x_121.atr  \n",
      " extracting: data/mit-bih-arrhythmia-database-1.0.0/x_mitdb/x_111.atr  \n",
      " extracting: data/mit-bih-arrhythmia-database-1.0.0/x_mitdb/x_115.dat  \n",
      " extracting: data/mit-bih-arrhythmia-database-1.0.0/x_mitdb/x_109.dat  \r\n",
      " extracting: data/mit-bih-arrhythmia-database-1.0.0/x_mitdb/x_231.atr  \r\n",
      " extracting: data/mit-bih-arrhythmia-database-1.0.0/x_mitdb/x_113.dat  \r\n",
      " extracting: data/mit-bih-arrhythmia-database-1.0.0/x_mitdb/x_108.dat  \r\n",
      " extracting: data/mit-bih-arrhythmia-database-1.0.0/x_mitdb/x_124.hea  \r\n",
      " extracting: data/mit-bih-arrhythmia-database-1.0.0/x_mitdb/x_220.atr  \r\n",
      " extracting: data/mit-bih-arrhythmia-database-1.0.0/x_mitdb/x_232.hea  \r\n",
      " extracting: data/mit-bih-arrhythmia-database-1.0.0/x_mitdb/x_223.hea  \r\n",
      " extracting: data/mit-bih-arrhythmia-database-1.0.0/x_mitdb/x_113.hea  \r\n",
      " extracting: data/mit-bih-arrhythmia-database-1.0.0/x_mitdb/x_222.dat  \r\n",
      " extracting: data/mit-bih-arrhythmia-database-1.0.0/x_mitdb/x_117.hea  \r\n",
      " extracting: data/mit-bih-arrhythmia-database-1.0.0/x_mitdb/x_234.atr  \r\n",
      " extracting: data/mit-bih-arrhythmia-database-1.0.0/x_mitdb/x_223.dat  \r\n",
      " extracting: data/mit-bih-arrhythmia-database-1.0.0/x_mitdb/x_121.dat  \r\n",
      " extracting: data/mit-bih-arrhythmia-database-1.0.0/x_mitdb/x_122.hea  \r\n",
      " extracting: data/mit-bih-arrhythmia-database-1.0.0/x_mitdb/x_112.dat  \r\n"
     ]
    }
   ],
   "source": [
    "!mkdir data\n",
    "!mkdir output\n",
    "!wget https://alpha.physionet.org/static/published-projects/mitdb/mit-bih-arrhythmia-database-1.0.0.zip -P data\n",
    "!unzip data/mit-bih-arrhythmia-database-1.0.0.zip -d data\n",
    "!mv data/mit-bih-arrhythmia-database-1.0.0/* data/\n",
    "!rm -rf data/mit-bih-arrhythmia-database-1.0.0/"
   ]
  },
  {
   "cell_type": "markdown",
   "metadata": {},
   "source": [
    "### Exemplo de sinal"
   ]
  },
  {
   "cell_type": "code",
   "execution_count": 7,
   "metadata": {},
   "outputs": [
    {
     "data": {
      "image/png": "[encoded data removed]",
      "text/plain": [
       "<Figure size 432x288 with 2 Axes>"
      ]
     },
     "metadata": {
      "needs_background": "light"
     },
     "output_type": "display_data"
    }
   ],
   "source": [
    "record = wfdb.rdrecord('data/100')\n",
    "wfdb.plot_wfdb(record=record, title='Amostra de Sinal MIT-BIH') "
   ]
  },
  {
   "cell_type": "markdown",
   "metadata": {},
   "source": [
    "### Segmentação do sinal\n",
    "\n",
    "A função `segmentation` recebe uma lista contendo o sinal e o tipo de batimento que deve segmentar (de acordo com a tabela acima mencionada)"
   ]
  },
  {
   "cell_type": "code",
   "execution_count": 8,
   "metadata": {},
   "outputs": [],
   "source": [
    "def segmentation(records, beat_type=\"N\"):\n",
    "    \"\"\"\n",
    "        Segment records according to the following annotation table\n",
    "\n",
    "        N  Normal beat (displayed as \"·\" by the PhysioBank ATM, LightWAVE, pschart, and psfd)\n",
    "        L  Left bundle branch block beat\n",
    "        R  Right bundle branch block beat\n",
    "        B  Bundle branch block beat (unspecified)\n",
    "        A  Atrial premature beat\n",
    "        a  Aberrated atrial premature beat\n",
    "        J  Nodal (junctional) premature beat\n",
    "        S  Supraventricular premature or ectopic beat (atrial or nodal)\n",
    "        V  Premature ventricular contraction\n",
    "        r  R-on-T premature ventricular contraction\n",
    "        F  Fusion of ventricular and normal beat\n",
    "        e  Atrial escape beat\n",
    "        j  Nodal (junctional) escape beat\n",
    "        n  Supraventricular escape beat (atrial or nodal)\n",
    "        E  Ventricular escape beat\n",
    "        /  Paced beat\n",
    "        f  Fusion of paced and normal beat\n",
    "        Q  Unclassifiable beat\n",
    "        ?  Beat not classified during learning\n",
    "    \"\"\"\n",
    "    result = []\n",
    "\n",
    "    # Iterate over records\n",
    "    for e in records:\n",
    "        # Get signals and fields from sample\n",
    "        signals, fields = wfdb.rdsamp(e, channels=[0])\n",
    "\n",
    "        # Read sample annotation\n",
    "        annotations = wfdb.rdann(e, 'atr')\n",
    "\n",
    "        # Check if each element of a 1D array is present in a second array\n",
    "        # - True for positions where beat_type ('N', 'L', 'R'... is present)\n",
    "        # - False for positions where it is not\n",
    "        false_true_mask = np.in1d(annotations.symbol, beat_type)\n",
    "\n",
    "        # List containing only beat_type beats\n",
    "        beat_type_beats = annotations.sample[false_true_mask]\n",
    "\n",
    "        # All sample beats\n",
    "        sample = annotations.sample\n",
    "\n",
    "        for i in beat_type_beats:\n",
    "            all_beats = list(sample)\n",
    "\n",
    "            # Get beat index\n",
    "            beat_type_index = all_beats.index(i)\n",
    "\n",
    "            # Check if first or last beat\n",
    "            if beat_type_index != 0 and beat_type_index != (len(all_beats) - 1):\n",
    "                # Get previous beat\n",
    "                previous_beat = all_beats[beat_type_index - 1]\n",
    "\n",
    "                # Get next beat\n",
    "                next_beat = all_beats[beat_type_index + 1]\n",
    "\n",
    "                # Get half wave back\n",
    "                diff1 = abs(previous_beat - all_beats[beat_type_index]) // 2\n",
    "\n",
    "                # Get half wave next\n",
    "                diff2 = abs(next_beat - all_beats[beat_type_index]) // 2\n",
    "\n",
    "                # Append signal\n",
    "                result.append(signals[all_beats[beat_type_index] - diff1: all_beats[beat_type_index] + diff2, 0])\n",
    "    return result    "
   ]
  },
  {
   "cell_type": "markdown",
   "metadata": {},
   "source": [
    "### Função `array2img`\n",
    "\n",
    "A seguinte funcão recebe um `array` contendo o sinal de uma amostra, a renderiza como imagem e a salva no diretório de saída"
   ]
  },
  {
   "cell_type": "code",
   "execution_count": 9,
   "metadata": {},
   "outputs": [],
   "source": [
    "def array2img(array, record_name='', cls='normal'):\n",
    "    # Create path\n",
    "    path = os.path.relpath(os.path.join('output', cls))\n",
    "\n",
    "    # Check if path exists, if not, then mkdir it\n",
    "    if not os.path.exists(path):\n",
    "        os.mkdir(path)\n",
    "\n",
    "    for count, i in enumerate(array):\n",
    "        # Create filename\n",
    "        filename = os.path.join(path, record_name + '_' + str(count) + '.png')\n",
    "\n",
    "        # If it doesn't exists\n",
    "        if not os.path.exists(filename):\n",
    "            # Create figure from signal\n",
    "            fig = plt.figure(frameon=False)\n",
    "            plt.plot(i)\n",
    "\n",
    "            # Remove X and Y axis values (ticks)\n",
    "            plt.xticks([]), plt.yticks([])\n",
    "\n",
    "            # Remove plot borders (axis spines)\n",
    "            for spine in plt.gca().spines.values():\n",
    "                spine.set_visible(False)\n",
    "\n",
    "            # Save figure\n",
    "            fig.savefig(filename)\n",
    "\n",
    "            # Apply OpenCV grayscale transformations\n",
    "            im_gray = cv2.imread(filename, cv2.IMREAD_GRAYSCALE)\n",
    "\n",
    "            # Apply OpenCV resize\n",
    "            im_gray = cv2.resize(im_gray, (229, 229), interpolation=cv2.INTER_LANCZOS4)\n",
    "\n",
    "            # Write file\n",
    "            cv2.imwrite(filename, im_gray)\n",
    "\n",
    "            # Close plot to save memory\n",
    "            plt.close(fig)"
   ]
  },
  {
   "cell_type": "markdown",
   "metadata": {},
   "source": [
    "### Programa principal\n",
    "\n",
    "O seguinte código faz a leitura da base, classificando cada elemento em um diretório específico de cada classe ('N', 'L', 'R', etc...)"
   ]
  },
  {
   "cell_type": "code",
   "execution_count": 10,
   "metadata": {},
   "outputs": [],
   "source": [
    "# Get record names\n",
    "records = open('data/RECORDS').read().split('\\n')\n",
    "\n",
    "# Iterate over it\n",
    "for record in records:\n",
    "    if record != '':\n",
    "        # Iterate over beat types\n",
    "        for beat_type in BEAT_ANNOTATIONS:\n",
    "            try:\n",
    "                # Segment record by beat_type\n",
    "                segmented = segmentation(['data/' + record], beat_type=beat_type)\n",
    "\n",
    "                # Transform an array into an image\n",
    "                array2img(segmented, record_name=record, cls=BEAT_TYPES[beat_type])\n",
    "\n",
    "            except Exception as e:\n",
    "                print(\"Erro: \" + str(e))"
   ]
  },
  {
   "cell_type": "markdown",
   "metadata": {},
   "source": [
    "## Fast.ai\n",
    "\n",
    "O código abaixo realiza a leitura das imagens, cria um objeto do tipo `ImageDataBunch`, aplica diversas transformações de _data augmentation_ e treina uma rede neural, utilizando _transfer learning_ a partir da ImageNet (`resnet50`)."
   ]
  },
  {
   "cell_type": "code",
   "execution_count": 11,
   "metadata": {},
   "outputs": [],
   "source": [
    "from fastai.vision import *"
   ]
  },
  {
   "cell_type": "code",
   "execution_count": 12,
   "metadata": {},
   "outputs": [],
   "source": [
    "path = Path('output')"
   ]
  },
  {
   "cell_type": "code",
   "execution_count": 13,
   "metadata": {},
   "outputs": [
    {
     "name": "stdout",
     "output_type": "stream",
     "text": [
      "normal\n"
     ]
    },
    {
     "data": {
      "text/html": [
       "\n",
       "    <div>\n",
       "        <style>\n",
       "            /* Turns off some styling */\n",
       "            progress {\n",
       "                /* gets rid of default border in Firefox and Opera. */\n",
       "                border: none;\n",
       "                /* Needs to be in here for Safari polyfill so background images work as expected. */\n",
       "                background-size: auto;\n",
       "            }\n",
       "            .progress-bar-interrupted, .progress-bar-interrupted::-webkit-progress-bar {\n",
       "                background: #F44336;\n",
       "            }\n",
       "        </style>\n",
       "      <progress value='75016' class='' max='75016', style='width:300px; height:20px; vertical-align: middle;'></progress>\n",
       "      100.00% [75016/75016 00:47<00:00]\n",
       "    </div>\n",
       "    "
      ],
      "text/plain": [
       "<IPython.core.display.HTML object>"
      ]
     },
     "metadata": {},
     "output_type": "display_data"
    },
    {
     "name": "stdout",
     "output_type": "stream",
     "text": [
      "left-bundle-branch-block-beat\n"
     ]
    },
    {
     "data": {
      "text/html": [
       "\n",
       "    <div>\n",
       "        <style>\n",
       "            /* Turns off some styling */\n",
       "            progress {\n",
       "                /* gets rid of default border in Firefox and Opera. */\n",
       "                border: none;\n",
       "                /* Needs to be in here for Safari polyfill so background images work as expected. */\n",
       "                background-size: auto;\n",
       "            }\n",
       "            .progress-bar-interrupted, .progress-bar-interrupted::-webkit-progress-bar {\n",
       "                background: #F44336;\n",
       "            }\n",
       "        </style>\n",
       "      <progress value='8072' class='' max='8072', style='width:300px; height:20px; vertical-align: middle;'></progress>\n",
       "      100.00% [8072/8072 00:05<00:00]\n",
       "    </div>\n",
       "    "
      ],
      "text/plain": [
       "<IPython.core.display.HTML object>"
      ]
     },
     "metadata": {},
     "output_type": "display_data"
    },
    {
     "name": "stdout",
     "output_type": "stream",
     "text": [
      "right-bundle-branch-block-beat\n"
     ]
    },
    {
     "data": {
      "text/html": [
       "\n",
       "    <div>\n",
       "        <style>\n",
       "            /* Turns off some styling */\n",
       "            progress {\n",
       "                /* gets rid of default border in Firefox and Opera. */\n",
       "                border: none;\n",
       "                /* Needs to be in here for Safari polyfill so background images work as expected. */\n",
       "                background-size: auto;\n",
       "            }\n",
       "            .progress-bar-interrupted, .progress-bar-interrupted::-webkit-progress-bar {\n",
       "                background: #F44336;\n",
       "            }\n",
       "        </style>\n",
       "      <progress value='7256' class='' max='7256', style='width:300px; height:20px; vertical-align: middle;'></progress>\n",
       "      100.00% [7256/7256 00:04<00:00]\n",
       "    </div>\n",
       "    "
      ],
      "text/plain": [
       "<IPython.core.display.HTML object>"
      ]
     },
     "metadata": {},
     "output_type": "display_data"
    },
    {
     "name": "stdout",
     "output_type": "stream",
     "text": [
      "bundle-branch-block-beat\n"
     ]
    },
    {
     "data": {
      "text/html": [
       "\n",
       "    <div>\n",
       "        <style>\n",
       "            /* Turns off some styling */\n",
       "            progress {\n",
       "                /* gets rid of default border in Firefox and Opera. */\n",
       "                border: none;\n",
       "                /* Needs to be in here for Safari polyfill so background images work as expected. */\n",
       "                background-size: auto;\n",
       "            }\n",
       "            .progress-bar-interrupted, .progress-bar-interrupted::-webkit-progress-bar {\n",
       "                background: #F44336;\n",
       "            }\n",
       "        </style>\n",
       "      <progress value='0' class='' max='0', style='width:300px; height:20px; vertical-align: middle;'></progress>\n",
       "      100% [0/0]\n",
       "    </div>\n",
       "    "
      ],
      "text/plain": [
       "<IPython.core.display.HTML object>"
      ]
     },
     "metadata": {},
     "output_type": "display_data"
    },
    {
     "name": "stderr",
     "output_type": "stream",
     "text": [
      "/home/leonsilva/.conda/envs/ecg-arrhytmia/lib/python3.7/site-packages/fastprogress/fastprogress.py:102: UserWarning: Your generator is empty.\n",
      "  warn(\"Your generator is empty.\")\n"
     ]
    },
    {
     "name": "stdout",
     "output_type": "stream",
     "text": [
      "atrial-premature-beat\n"
     ]
    },
    {
     "data": {
      "text/html": [
       "\n",
       "    <div>\n",
       "        <style>\n",
       "            /* Turns off some styling */\n",
       "            progress {\n",
       "                /* gets rid of default border in Firefox and Opera. */\n",
       "                border: none;\n",
       "                /* Needs to be in here for Safari polyfill so background images work as expected. */\n",
       "                background-size: auto;\n",
       "            }\n",
       "            .progress-bar-interrupted, .progress-bar-interrupted::-webkit-progress-bar {\n",
       "                background: #F44336;\n",
       "            }\n",
       "        </style>\n",
       "      <progress value='2544' class='' max='2544', style='width:300px; height:20px; vertical-align: middle;'></progress>\n",
       "      100.00% [2544/2544 00:01<00:00]\n",
       "    </div>\n",
       "    "
      ],
      "text/plain": [
       "<IPython.core.display.HTML object>"
      ]
     },
     "metadata": {},
     "output_type": "display_data"
    },
    {
     "name": "stdout",
     "output_type": "stream",
     "text": [
      "aberrated-atrial-premature-beat\n"
     ]
    },
    {
     "data": {
      "text/html": [
       "\n",
       "    <div>\n",
       "        <style>\n",
       "            /* Turns off some styling */\n",
       "            progress {\n",
       "                /* gets rid of default border in Firefox and Opera. */\n",
       "                border: none;\n",
       "                /* Needs to be in here for Safari polyfill so background images work as expected. */\n",
       "                background-size: auto;\n",
       "            }\n",
       "            .progress-bar-interrupted, .progress-bar-interrupted::-webkit-progress-bar {\n",
       "                background: #F44336;\n",
       "            }\n",
       "        </style>\n",
       "      <progress value='150' class='' max='150', style='width:300px; height:20px; vertical-align: middle;'></progress>\n",
       "      100.00% [150/150 00:00<00:00]\n",
       "    </div>\n",
       "    "
      ],
      "text/plain": [
       "<IPython.core.display.HTML object>"
      ]
     },
     "metadata": {},
     "output_type": "display_data"
    },
    {
     "name": "stdout",
     "output_type": "stream",
     "text": [
      "nodal-premature-beat\n"
     ]
    },
    {
     "data": {
      "text/html": [
       "\n",
       "    <div>\n",
       "        <style>\n",
       "            /* Turns off some styling */\n",
       "            progress {\n",
       "                /* gets rid of default border in Firefox and Opera. */\n",
       "                border: none;\n",
       "                /* Needs to be in here for Safari polyfill so background images work as expected. */\n",
       "                background-size: auto;\n",
       "            }\n",
       "            .progress-bar-interrupted, .progress-bar-interrupted::-webkit-progress-bar {\n",
       "                background: #F44336;\n",
       "            }\n",
       "        </style>\n",
       "      <progress value='83' class='' max='83', style='width:300px; height:20px; vertical-align: middle;'></progress>\n",
       "      100.00% [83/83 00:00<00:00]\n",
       "    </div>\n",
       "    "
      ],
      "text/plain": [
       "<IPython.core.display.HTML object>"
      ]
     },
     "metadata": {},
     "output_type": "display_data"
    },
    {
     "name": "stdout",
     "output_type": "stream",
     "text": [
      "supraventricular-premature-or-ectopic-beat\n"
     ]
    },
    {
     "data": {
      "text/html": [
       "\n",
       "    <div>\n",
       "        <style>\n",
       "            /* Turns off some styling */\n",
       "            progress {\n",
       "                /* gets rid of default border in Firefox and Opera. */\n",
       "                border: none;\n",
       "                /* Needs to be in here for Safari polyfill so background images work as expected. */\n",
       "                background-size: auto;\n",
       "            }\n",
       "            .progress-bar-interrupted, .progress-bar-interrupted::-webkit-progress-bar {\n",
       "                background: #F44336;\n",
       "            }\n",
       "        </style>\n",
       "      <progress value='2' class='' max='2', style='width:300px; height:20px; vertical-align: middle;'></progress>\n",
       "      100.00% [2/2 00:00<00:00]\n",
       "    </div>\n",
       "    "
      ],
      "text/plain": [
       "<IPython.core.display.HTML object>"
      ]
     },
     "metadata": {},
     "output_type": "display_data"
    },
    {
     "name": "stdout",
     "output_type": "stream",
     "text": [
      "premature-ventricular-contraction\n"
     ]
    },
    {
     "data": {
      "text/html": [
       "\n",
       "    <div>\n",
       "        <style>\n",
       "            /* Turns off some styling */\n",
       "            progress {\n",
       "                /* gets rid of default border in Firefox and Opera. */\n",
       "                border: none;\n",
       "                /* Needs to be in here for Safari polyfill so background images work as expected. */\n",
       "                background-size: auto;\n",
       "            }\n",
       "            .progress-bar-interrupted, .progress-bar-interrupted::-webkit-progress-bar {\n",
       "                background: #F44336;\n",
       "            }\n",
       "        </style>\n",
       "      <progress value='7130' class='' max='7130', style='width:300px; height:20px; vertical-align: middle;'></progress>\n",
       "      100.00% [7130/7130 00:04<00:00]\n",
       "    </div>\n",
       "    "
      ],
      "text/plain": [
       "<IPython.core.display.HTML object>"
      ]
     },
     "metadata": {},
     "output_type": "display_data"
    },
    {
     "name": "stdout",
     "output_type": "stream",
     "text": [
      "r-on-t-premature-ventricular-contraction\n"
     ]
    },
    {
     "data": {
      "text/html": [
       "\n",
       "    <div>\n",
       "        <style>\n",
       "            /* Turns off some styling */\n",
       "            progress {\n",
       "                /* gets rid of default border in Firefox and Opera. */\n",
       "                border: none;\n",
       "                /* Needs to be in here for Safari polyfill so background images work as expected. */\n",
       "                background-size: auto;\n",
       "            }\n",
       "            .progress-bar-interrupted, .progress-bar-interrupted::-webkit-progress-bar {\n",
       "                background: #F44336;\n",
       "            }\n",
       "        </style>\n",
       "      <progress value='0' class='' max='0', style='width:300px; height:20px; vertical-align: middle;'></progress>\n",
       "      100% [0/0]\n",
       "    </div>\n",
       "    "
      ],
      "text/plain": [
       "<IPython.core.display.HTML object>"
      ]
     },
     "metadata": {},
     "output_type": "display_data"
    },
    {
     "name": "stdout",
     "output_type": "stream",
     "text": [
      "fusion-of-ventricular-and-normal-beat\n"
     ]
    },
    {
     "data": {
      "text/html": [
       "\n",
       "    <div>\n",
       "        <style>\n",
       "            /* Turns off some styling */\n",
       "            progress {\n",
       "                /* gets rid of default border in Firefox and Opera. */\n",
       "                border: none;\n",
       "                /* Needs to be in here for Safari polyfill so background images work as expected. */\n",
       "                background-size: auto;\n",
       "            }\n",
       "            .progress-bar-interrupted, .progress-bar-interrupted::-webkit-progress-bar {\n",
       "                background: #F44336;\n",
       "            }\n",
       "        </style>\n",
       "      <progress value='803' class='' max='803', style='width:300px; height:20px; vertical-align: middle;'></progress>\n",
       "      100.00% [803/803 00:00<00:00]\n",
       "    </div>\n",
       "    "
      ],
      "text/plain": [
       "<IPython.core.display.HTML object>"
      ]
     },
     "metadata": {},
     "output_type": "display_data"
    },
    {
     "name": "stdout",
     "output_type": "stream",
     "text": [
      "atrial-escape-beat\n"
     ]
    },
    {
     "data": {
      "text/html": [
       "\n",
       "    <div>\n",
       "        <style>\n",
       "            /* Turns off some styling */\n",
       "            progress {\n",
       "                /* gets rid of default border in Firefox and Opera. */\n",
       "                border: none;\n",
       "                /* Needs to be in here for Safari polyfill so background images work as expected. */\n",
       "                background-size: auto;\n",
       "            }\n",
       "            .progress-bar-interrupted, .progress-bar-interrupted::-webkit-progress-bar {\n",
       "                background: #F44336;\n",
       "            }\n",
       "        </style>\n",
       "      <progress value='16' class='' max='16', style='width:300px; height:20px; vertical-align: middle;'></progress>\n",
       "      100.00% [16/16 00:00<00:00]\n",
       "    </div>\n",
       "    "
      ],
      "text/plain": [
       "<IPython.core.display.HTML object>"
      ]
     },
     "metadata": {},
     "output_type": "display_data"
    },
    {
     "name": "stdout",
     "output_type": "stream",
     "text": [
      "nodal-escape-beat\n"
     ]
    },
    {
     "data": {
      "text/html": [
       "\n",
       "    <div>\n",
       "        <style>\n",
       "            /* Turns off some styling */\n",
       "            progress {\n",
       "                /* gets rid of default border in Firefox and Opera. */\n",
       "                border: none;\n",
       "                /* Needs to be in here for Safari polyfill so background images work as expected. */\n",
       "                background-size: auto;\n",
       "            }\n",
       "            .progress-bar-interrupted, .progress-bar-interrupted::-webkit-progress-bar {\n",
       "                background: #F44336;\n",
       "            }\n",
       "        </style>\n",
       "      <progress value='229' class='' max='229', style='width:300px; height:20px; vertical-align: middle;'></progress>\n",
       "      100.00% [229/229 00:00<00:00]\n",
       "    </div>\n",
       "    "
      ],
      "text/plain": [
       "<IPython.core.display.HTML object>"
      ]
     },
     "metadata": {},
     "output_type": "display_data"
    },
    {
     "name": "stdout",
     "output_type": "stream",
     "text": [
      "supraventricular-escape-beat\n"
     ]
    },
    {
     "data": {
      "text/html": [
       "\n",
       "    <div>\n",
       "        <style>\n",
       "            /* Turns off some styling */\n",
       "            progress {\n",
       "                /* gets rid of default border in Firefox and Opera. */\n",
       "                border: none;\n",
       "                /* Needs to be in here for Safari polyfill so background images work as expected. */\n",
       "                background-size: auto;\n",
       "            }\n",
       "            .progress-bar-interrupted, .progress-bar-interrupted::-webkit-progress-bar {\n",
       "                background: #F44336;\n",
       "            }\n",
       "        </style>\n",
       "      <progress value='0' class='' max='0', style='width:300px; height:20px; vertical-align: middle;'></progress>\n",
       "      100% [0/0]\n",
       "    </div>\n",
       "    "
      ],
      "text/plain": [
       "<IPython.core.display.HTML object>"
      ]
     },
     "metadata": {},
     "output_type": "display_data"
    },
    {
     "name": "stdout",
     "output_type": "stream",
     "text": [
      "ventricular-escape-beat\n"
     ]
    },
    {
     "data": {
      "text/html": [
       "\n",
       "    <div>\n",
       "        <style>\n",
       "            /* Turns off some styling */\n",
       "            progress {\n",
       "                /* gets rid of default border in Firefox and Opera. */\n",
       "                border: none;\n",
       "                /* Needs to be in here for Safari polyfill so background images work as expected. */\n",
       "                background-size: auto;\n",
       "            }\n",
       "            .progress-bar-interrupted, .progress-bar-interrupted::-webkit-progress-bar {\n",
       "                background: #F44336;\n",
       "            }\n",
       "        </style>\n",
       "      <progress value='106' class='' max='106', style='width:300px; height:20px; vertical-align: middle;'></progress>\n",
       "      100.00% [106/106 00:00<00:00]\n",
       "    </div>\n",
       "    "
      ],
      "text/plain": [
       "<IPython.core.display.HTML object>"
      ]
     },
     "metadata": {},
     "output_type": "display_data"
    },
    {
     "name": "stdout",
     "output_type": "stream",
     "text": [
      "paced-beat\n"
     ]
    },
    {
     "data": {
      "text/html": [
       "\n",
       "    <div>\n",
       "        <style>\n",
       "            /* Turns off some styling */\n",
       "            progress {\n",
       "                /* gets rid of default border in Firefox and Opera. */\n",
       "                border: none;\n",
       "                /* Needs to be in here for Safari polyfill so background images work as expected. */\n",
       "                background-size: auto;\n",
       "            }\n",
       "            .progress-bar-interrupted, .progress-bar-interrupted::-webkit-progress-bar {\n",
       "                background: #F44336;\n",
       "            }\n",
       "        </style>\n",
       "      <progress value='7024' class='' max='7024', style='width:300px; height:20px; vertical-align: middle;'></progress>\n",
       "      100.00% [7024/7024 00:04<00:00]\n",
       "    </div>\n",
       "    "
      ],
      "text/plain": [
       "<IPython.core.display.HTML object>"
      ]
     },
     "metadata": {},
     "output_type": "display_data"
    },
    {
     "name": "stdout",
     "output_type": "stream",
     "text": [
      "fusion-of-paced-and-normal-beat\n"
     ]
    },
    {
     "data": {
      "text/html": [
       "\n",
       "    <div>\n",
       "        <style>\n",
       "            /* Turns off some styling */\n",
       "            progress {\n",
       "                /* gets rid of default border in Firefox and Opera. */\n",
       "                border: none;\n",
       "                /* Needs to be in here for Safari polyfill so background images work as expected. */\n",
       "                background-size: auto;\n",
       "            }\n",
       "            .progress-bar-interrupted, .progress-bar-interrupted::-webkit-progress-bar {\n",
       "                background: #F44336;\n",
       "            }\n",
       "        </style>\n",
       "      <progress value='982' class='' max='982', style='width:300px; height:20px; vertical-align: middle;'></progress>\n",
       "      100.00% [982/982 00:00<00:00]\n",
       "    </div>\n",
       "    "
      ],
      "text/plain": [
       "<IPython.core.display.HTML object>"
      ]
     },
     "metadata": {},
     "output_type": "display_data"
    },
    {
     "name": "stdout",
     "output_type": "stream",
     "text": [
      "unclassifiable-beat\n"
     ]
    },
    {
     "data": {
      "text/html": [
       "\n",
       "    <div>\n",
       "        <style>\n",
       "            /* Turns off some styling */\n",
       "            progress {\n",
       "                /* gets rid of default border in Firefox and Opera. */\n",
       "                border: none;\n",
       "                /* Needs to be in here for Safari polyfill so background images work as expected. */\n",
       "                background-size: auto;\n",
       "            }\n",
       "            .progress-bar-interrupted, .progress-bar-interrupted::-webkit-progress-bar {\n",
       "                background: #F44336;\n",
       "            }\n",
       "        </style>\n",
       "      <progress value='33' class='' max='33', style='width:300px; height:20px; vertical-align: middle;'></progress>\n",
       "      100.00% [33/33 00:00<00:00]\n",
       "    </div>\n",
       "    "
      ],
      "text/plain": [
       "<IPython.core.display.HTML object>"
      ]
     },
     "metadata": {},
     "output_type": "display_data"
    },
    {
     "name": "stdout",
     "output_type": "stream",
     "text": [
      "beat-not-classified-during-learning\n"
     ]
    },
    {
     "data": {
      "text/html": [
       "\n",
       "    <div>\n",
       "        <style>\n",
       "            /* Turns off some styling */\n",
       "            progress {\n",
       "                /* gets rid of default border in Firefox and Opera. */\n",
       "                border: none;\n",
       "                /* Needs to be in here for Safari polyfill so background images work as expected. */\n",
       "                background-size: auto;\n",
       "            }\n",
       "            .progress-bar-interrupted, .progress-bar-interrupted::-webkit-progress-bar {\n",
       "                background: #F44336;\n",
       "            }\n",
       "        </style>\n",
       "      <progress value='0' class='' max='0', style='width:300px; height:20px; vertical-align: middle;'></progress>\n",
       "      100% [0/0]\n",
       "    </div>\n",
       "    "
      ],
      "text/plain": [
       "<IPython.core.display.HTML object>"
      ]
     },
     "metadata": {},
     "output_type": "display_data"
    }
   ],
   "source": [
    "# Verify images\n",
    "for c in classes:\n",
    "    print(c)\n",
    "    verify_images(path/c, delete=True)"
   ]
  },
  {
   "cell_type": "code",
   "execution_count": 14,
   "metadata": {},
   "outputs": [],
   "source": [
    "data = ImageDataBunch.from_folder(\n",
    "    path, \n",
    "    train=\"./model-data/\", \n",
    "    valid_pct=0.2,\n",
    "    ds_tfms=get_transforms(), \n",
    "    size=229, \n",
    "    num_workers=4\n",
    ").normalize(imagenet_stats)"
   ]
  },
  {
   "cell_type": "code",
   "execution_count": 17,
   "metadata": {},
   "outputs": [
    {
     "data": {
      "image/png": "[encoded data removed]",
      "text/plain": [
       "<Figure size 720x936 with 9 Axes>"
      ]
     },
     "metadata": {
      "needs_background": "light"
     },
     "output_type": "display_data"
    }
   ],
   "source": [
    "data.show_batch(rows=3, figsize=(10,13))"
   ]
  },
  {
   "cell_type": "code",
   "execution_count": 18,
   "metadata": {},
   "outputs": [
    {
     "data": {
      "text/plain": [
       "(['aberrated-atrial-premature-beat',\n",
       "  'atrial-escape-beat',\n",
       "  'atrial-premature-beat',\n",
       "  'fusion-of-paced-and-normal-beat',\n",
       "  'fusion-of-ventricular-and-normal-beat',\n",
       "  'left-bundle-branch-block-beat',\n",
       "  'nodal-escape-beat',\n",
       "  'nodal-premature-beat',\n",
       "  'normal',\n",
       "  'paced-beat',\n",
       "  'premature-ventricular-contraction',\n",
       "  'right-bundle-branch-block-beat',\n",
       "  'supraventricular-premature-or-ectopic-beat',\n",
       "  'unclassifiable-beat',\n",
       "  'ventricular-escape-beat'],\n",
       " 15,\n",
       " 87557,\n",
       " 21889)"
      ]
     },
     "execution_count": 18,
     "metadata": {},
     "output_type": "execute_result"
    }
   ],
   "source": [
    "data.classes, data.c, len(data.train_ds), len(data.valid_ds)"
   ]
  },
  {
   "cell_type": "markdown",
   "metadata": {},
   "source": [
    "### Cria a arquitetura da Rede Neural\n",
    "\n",
    "Cria uma Rede Neural Convolucional, passando:\n",
    "\n",
    "- `data`: Os dados carregados pelo `ImageDataBunch`\n",
    "- `models.resnet50`: Modelo pré treinado da ImageNet com 50 camadas\n",
    "- `accuracy`: Métrica para monitorar o treinamento do modelo"
   ]
  },
  {
   "cell_type": "code",
   "execution_count": 19,
   "metadata": {},
   "outputs": [],
   "source": [
    "learn = cnn_learner(data, models.resnet50, metrics=accuracy)"
   ]
  },
  {
   "cell_type": "markdown",
   "metadata": {},
   "source": [
    "### Treinamento da CNN com `fit_one_cycle`\n",
    "\n",
    "Utiliza a política de 1cycle desenvolvida por Leslie Smith ([link para paper](https://arxiv.org/pdf/1803.09820.pdf)) para cálculo dos hiperparâmetros apenas das camadas _fully connected_ (mantém a ResNet intacta) utilizando 2 épocas."
   ]
  },
  {
   "cell_type": "code",
   "execution_count": 20,
   "metadata": {},
   "outputs": [
    {
     "data": {
      "text/html": [
       "<table border=\"1\" class=\"dataframe\">\n",
       "  <thead>\n",
       "    <tr style=\"text-align: left;\">\n",
       "      <th>epoch</th>\n",
       "      <th>train_loss</th>\n",
       "      <th>valid_loss</th>\n",
       "      <th>accuracy</th>\n",
       "      <th>time</th>\n",
       "    </tr>\n",
       "  </thead>\n",
       "  <tbody>\n",
       "    <tr>\n",
       "      <td>0</td>\n",
       "      <td>0.194059</td>\n",
       "      <td>0.148867</td>\n",
       "      <td>0.957833</td>\n",
       "      <td>07:04</td>\n",
       "    </tr>\n",
       "    <tr>\n",
       "      <td>1</td>\n",
       "      <td>0.122580</td>\n",
       "      <td>0.098999</td>\n",
       "      <td>0.970670</td>\n",
       "      <td>07:03</td>\n",
       "    </tr>\n",
       "  </tbody>\n",
       "</table>"
      ],
      "text/plain": [
       "<IPython.core.display.HTML object>"
      ]
     },
     "metadata": {},
     "output_type": "display_data"
    }
   ],
   "source": [
    "learn.fit_one_cycle(2)"
   ]
  },
  {
   "cell_type": "code",
   "execution_count": 21,
   "metadata": {},
   "outputs": [],
   "source": [
    "# Save a temporary stage\n",
    "learn.save('stage-1')"
   ]
  },
  {
   "cell_type": "code",
   "execution_count": 22,
   "metadata": {},
   "outputs": [],
   "source": [
    "# Unfreeze the ResNet50 to calc the wheights of the whole model\n",
    "learn.unfreeze()"
   ]
  },
  {
   "cell_type": "markdown",
   "metadata": {},
   "source": [
    "### Otimização do _Learning Rate_"
   ]
  },
  {
   "cell_type": "code",
   "execution_count": 23,
   "metadata": {},
   "outputs": [
    {
     "data": {
      "text/html": [],
      "text/plain": [
       "<IPython.core.display.HTML object>"
      ]
     },
     "metadata": {},
     "output_type": "display_data"
    },
    {
     "name": "stdout",
     "output_type": "stream",
     "text": [
      "LR Finder is complete, type {learner_name}.recorder.plot() to see the graph.\n"
     ]
    }
   ],
   "source": [
    "learn.lr_find()"
   ]
  },
  {
   "cell_type": "code",
   "execution_count": 24,
   "metadata": {},
   "outputs": [
    {
     "data": {
      "image/png": "[encoded data removed]",
      "text/plain": [
       "<Figure size 432x288 with 1 Axes>"
      ]
     },
     "metadata": {
      "needs_background": "light"
     },
     "output_type": "display_data"
    }
   ],
   "source": [
    "learn.recorder.plot()"
   ]
  },
  {
   "cell_type": "markdown",
   "metadata": {},
   "source": [
    "### Ajustando o treinamento através da análise do _learning rate_"
   ]
  },
  {
   "cell_type": "code",
   "execution_count": 25,
   "metadata": {},
   "outputs": [
    {
     "data": {
      "text/html": [
       "<table border=\"1\" class=\"dataframe\">\n",
       "  <thead>\n",
       "    <tr style=\"text-align: left;\">\n",
       "      <th>epoch</th>\n",
       "      <th>train_loss</th>\n",
       "      <th>valid_loss</th>\n",
       "      <th>accuracy</th>\n",
       "      <th>time</th>\n",
       "    </tr>\n",
       "  </thead>\n",
       "  <tbody>\n",
       "    <tr>\n",
       "      <td>0</td>\n",
       "      <td>0.105091</td>\n",
       "      <td>0.084290</td>\n",
       "      <td>0.974965</td>\n",
       "      <td>09:27</td>\n",
       "    </tr>\n",
       "    <tr>\n",
       "      <td>1</td>\n",
       "      <td>0.097477</td>\n",
       "      <td>0.076285</td>\n",
       "      <td>0.977888</td>\n",
       "      <td>09:24</td>\n",
       "    </tr>\n",
       "  </tbody>\n",
       "</table>"
      ],
      "text/plain": [
       "<IPython.core.display.HTML object>"
      ]
     },
     "metadata": {},
     "output_type": "display_data"
    }
   ],
   "source": [
    "learn.fit_one_cycle(2, max_lr=slice(1e-6,1e-5))"
   ]
  },
  {
   "cell_type": "code",
   "execution_count": 26,
   "metadata": {},
   "outputs": [],
   "source": [
    "# Save a temporary stage\n",
    "learn.save('stage-2')"
   ]
  },
  {
   "cell_type": "markdown",
   "metadata": {},
   "source": [
    "# Conclusão\n",
    "\n",
    "\n",
    "### Resultados\n",
    "\n",
    "A utilização da biblioteca fast.ai para o problema em questão se mostrou uma ótima alternativa. De fato, com poucas linhas de código foi possível chegar a uma acurácia de 97,7% na identificação de sinais de eletrocardiograma. A maior dificuldade foi no tratamento dos dados para permitir chegar às imagens, o que seria necessário mesmo com outras bibliotecas de deep learning. \n",
    "\n",
    "### Aplicabilidade e Limitações\n",
    "\n",
    "O bom resultado em relação à acurácia alcançada no modelo preditivo nos leva a crer que há uma grande possibilidade de aplicar na prática tais inferências. Cabe ressaltar que o modelo não prevê se um paciente possui algum tipo de arritmia, tendo em vista que não são pulsos isolados que permitem um diagnóstico acurado, mas sim a análise do todo por um médico especialista. É possível, no entanto, partir de um modelo similar a este para treinar outro que permitiria auxiliar no diagnóstico de arritmias. \n",
    "\n",
    "Ainda que seja necessária uma análise por um médico, é possível utilizar modelo semelhante ao aqui apresentado para avisar quando muitos pulsos estiverem fora do normal. Aplicações em pacientes internados que identifiquem esses pulsos anômalos e avise a equipe médica ou mesmo em smartwatches para idosos, por exemplo, podem ser aventadas sem muita dificuldade.  \n",
    "\n",
    "Uma dificuldade para a aplicação prática é converter os eletrocardiogramas em anotações de picos, que foram realizados de forma manual na base utilizada por nosso modelo para identificar cada batimento. Existem, no entanto, algoritmos de processamento de sinais que facilitam essa fase de tratamento dos dados.  \n",
    "\n",
    "### Próximos passos\n",
    "\n",
    "Validar o modelo seria interessante para avaliar a aplicabilidade real. Desse modo, pretendemos buscar clínicas e hospitais parceiras que permitam realizar testes de predição em eletrocardiogramas em pacientes não identificados. "
   ]
  }
 ],
 "metadata": {
  "kernelspec": {
   "display_name": "Python 3",
   "language": "python",
   "name": "python3"
  },
  "language_info": {
   "codemirror_mode": {
    "name": "ipython",
    "version": 3
   },
   "file_extension": ".py",
   "mimetype": "text/x-python",
   "name": "python",
   "nbconvert_exporter": "python",
   "pygments_lexer": "ipython3",
   "version": "3.7.3"
  }
 },
 "nbformat": 4,
 "nbformat_minor": 2
}
